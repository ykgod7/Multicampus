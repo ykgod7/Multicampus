{
 "cells": [
  {
   "cell_type": "code",
   "execution_count": 3,
   "id": "a985fff8",
   "metadata": {
    "scrolled": true
   },
   "outputs": [
    {
     "name": "stdout",
     "output_type": "stream",
     "text": [
      "4613732\n"
     ]
    }
   ],
   "source": [
    "curr, next = 0 , 1 \n",
    "total = 0\n",
    "\n",
    "for temp in range(50):\n",
    "    curr, next = next, curr + next\n",
    "    \n",
    "    if next % 2 == 0: \n",
    "        total += next\n",
    "    if next > 4000000:\n",
    "        break\n",
    "        \n",
    "print(total)"
   ]
  },
  {
   "cell_type": "code",
   "execution_count": 33,
   "id": "baf271ca",
   "metadata": {},
   "outputs": [
    {
     "name": "stdout",
     "output_type": "stream",
     "text": [
      "233168\n"
     ]
    }
   ],
   "source": [
    "sum = 0\n",
    "\n",
    "for num in range(1000):\n",
    "    if num % 3 == 0 or num % 5 == 0:\n",
    "        sum += num\n",
    "        \n",
    "print(sum)"
   ]
  },
  {
   "cell_type": "code",
   "execution_count": 1,
   "id": "82806866",
   "metadata": {},
   "outputs": [
    {
     "name": "stdout",
     "output_type": "stream",
     "text": [
      "i\n"
     ]
    }
   ],
   "source": [
    "string = \"This is a sample Program mississippi river\"\n",
    "sort = sorted(string)    # 알파벳 순서대로 정렬(List형식)\n",
    "combine = \"\".join(sort)    # List를 String으로 전환\n",
    "count = dict()\n",
    "\n",
    "for temp in combine.replace(\" \",\"\").lower():    # 공백 제거 및 소문자로 전환\n",
    "    if temp not in count:\n",
    "        count[temp] = 1\n",
    "    else:\n",
    "        count[temp] += 1\n",
    "\n",
    "highest_value = list(count.values())\n",
    "alphabet_list = list(count.keys())\n",
    "init = 0\n",
    "\n",
    "for temp in highest_value:\n",
    "    if temp > init:\n",
    "        init = temp\n",
    "        \n",
    "\n",
    "position = highest_value.index(init)\n",
    "\n",
    "print(alphabet_list[position])"
   ]
  },
  {
   "cell_type": "code",
   "execution_count": 68,
   "id": "5aab56ba",
   "metadata": {},
   "outputs": [
    {
     "name": "stdout",
     "output_type": "stream",
     "text": [
      "1 1 2 3 5 8 13 21 34 55 "
     ]
    }
   ],
   "source": []
  },
  {
   "cell_type": "code",
   "execution_count": null,
   "id": "bfa9e380",
   "metadata": {},
   "outputs": [],
   "source": []
  }
 ],
 "metadata": {
  "kernelspec": {
   "display_name": "Python [conda env:data_env] *",
   "language": "python",
   "name": "conda-env-data_env-py"
  },
  "language_info": {
   "codemirror_mode": {
    "name": "ipython",
    "version": 3
   },
   "file_extension": ".py",
   "mimetype": "text/x-python",
   "name": "python",
   "nbconvert_exporter": "python",
   "pygments_lexer": "ipython3",
   "version": "3.7.10"
  }
 },
 "nbformat": 4,
 "nbformat_minor": 5
}
